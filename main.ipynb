{
 "cells": [
  {
   "cell_type": "markdown",
   "metadata": {},
   "source": [
    "### data setup"
   ]
  },
  {
   "cell_type": "code",
   "execution_count": 7,
   "metadata": {},
   "outputs": [],
   "source": [
    "import pandas as pd\n",
    "import numpy as np\n",
    "import matplotlib.pyplot as plt\n",
    "import seaborn as sns\n",
    "from scipy.optimize import differential_evolution as de"
   ]
  },
  {
   "cell_type": "code",
   "execution_count": 6,
   "metadata": {},
   "outputs": [
    {
     "data": {
      "text/html": [
       "<div>\n",
       "<style scoped>\n",
       "    .dataframe tbody tr th:only-of-type {\n",
       "        vertical-align: middle;\n",
       "    }\n",
       "\n",
       "    .dataframe tbody tr th {\n",
       "        vertical-align: top;\n",
       "    }\n",
       "\n",
       "    .dataframe thead th {\n",
       "        text-align: right;\n",
       "    }\n",
       "</style>\n",
       "<table border=\"1\" class=\"dataframe\">\n",
       "  <thead>\n",
       "    <tr style=\"text-align: right;\">\n",
       "      <th></th>\n",
       "      <th>time</th>\n",
       "      <th>temperature</th>\n",
       "      <th>tga</th>\n",
       "      <th>dtga</th>\n",
       "      <th>dtga_5</th>\n",
       "    </tr>\n",
       "  </thead>\n",
       "  <tbody>\n",
       "    <tr>\n",
       "      <th>0</th>\n",
       "      <td>0</td>\n",
       "      <td>450.35</td>\n",
       "      <td>10.32687</td>\n",
       "      <td>-0.000092</td>\n",
       "      <td>-0.00046</td>\n",
       "    </tr>\n",
       "    <tr>\n",
       "      <th>1</th>\n",
       "      <td>5</td>\n",
       "      <td>450.85</td>\n",
       "      <td>10.32643</td>\n",
       "      <td>-0.000088</td>\n",
       "      <td>-0.00044</td>\n",
       "    </tr>\n",
       "    <tr>\n",
       "      <th>2</th>\n",
       "      <td>10</td>\n",
       "      <td>451.25</td>\n",
       "      <td>10.32595</td>\n",
       "      <td>-0.000096</td>\n",
       "      <td>-0.00048</td>\n",
       "    </tr>\n",
       "    <tr>\n",
       "      <th>3</th>\n",
       "      <td>15</td>\n",
       "      <td>451.65</td>\n",
       "      <td>10.32550</td>\n",
       "      <td>-0.000090</td>\n",
       "      <td>-0.00045</td>\n",
       "    </tr>\n",
       "    <tr>\n",
       "      <th>4</th>\n",
       "      <td>20</td>\n",
       "      <td>452.15</td>\n",
       "      <td>10.32502</td>\n",
       "      <td>-0.000096</td>\n",
       "      <td>-0.00048</td>\n",
       "    </tr>\n",
       "  </tbody>\n",
       "</table>\n",
       "</div>"
      ],
      "text/plain": [
       "   time  temperature       tga      dtga   dtga_5\n",
       "0     0       450.35  10.32687 -0.000092 -0.00046\n",
       "1     5       450.85  10.32643 -0.000088 -0.00044\n",
       "2    10       451.25  10.32595 -0.000096 -0.00048\n",
       "3    15       451.65  10.32550 -0.000090 -0.00045\n",
       "4    20       452.15  10.32502 -0.000096 -0.00048"
      ]
     },
     "execution_count": 6,
     "metadata": {},
     "output_type": "execute_result"
    }
   ],
   "source": [
    "raw_data = pd.read_csv('dados\\MC carpel H 5-min.csv')\n",
    "raw_data.head(5)"
   ]
  },
  {
   "cell_type": "code",
   "execution_count": 5,
   "metadata": {},
   "outputs": [
    {
     "data": {
      "text/plain": [
       "time             int64\n",
       "temperature    float64\n",
       "tga            float64\n",
       "dtga           float64\n",
       "dtga_5         float64\n",
       "dtype: object"
      ]
     },
     "execution_count": 5,
     "metadata": {},
     "output_type": "execute_result"
    }
   ],
   "source": [
    "raw_data.dtypes"
   ]
  },
  {
   "cell_type": "markdown",
   "metadata": {},
   "source": [
    "### functions"
   ]
  },
  {
   "cell_type": "code",
   "execution_count": 58,
   "metadata": {},
   "outputs": [],
   "source": [
    "def time_interval_decorator(function):\n",
    "    import time\n",
    "    def wrapper(*args):\n",
    "        initial_time = time.time()\n",
    "        function(*args)\n",
    "        final_time = time.time()\n",
    "        elapsed_time = final_time - initial_time\n",
    "        print(f'Time elapsed: {elapsed_time} seconds.')\n",
    "    return wrapper\n",
    "\n",
    "def theorical_temperature(**kwargs):\n",
    "    return kwargs['initial_temperature'] + kwargs['heating_rate']/60 * kwargs['time']\n",
    "\n",
    "def conversion(**kwargs):\n",
    "    return (kwargs['initial_mass'] - kwargs['instant_mass']) / (kwargs['initial_mass'] - kwargs['final_mass'])\n",
    "\n",
    "def conversion_rate(order, **kwargs):\n",
    "    return (1 - conversion(**kwargs))**order\n",
    "\n",
    "def arrhenius(pre_exp_factor, activation_energy, order, **kwargs):\n",
    "    rate = pre_exp_factor * np.exp( -activation_energy / (kwargs['gas_constant'] * theorical_temperature(**kwargs)))\n",
    "    rate *= conversion_rate(order, **kwargs)\n",
    "    return rate\n",
    "\n",
    "def rpi_model_for_mass(volatile_mass_fraction, pre_exp_factor, activation_energy, order, **kwargs):\n",
    "    model = (kwargs['initial_mass'] - kwargs['final_mass'])\n",
    "    model *= -volatile_mass_fraction * arrhenius(pre_exp_factor, activation_energy, order, **kwargs)\n",
    "    return model\n",
    "\n",
    "def objective_function(*args, **kwargs):\n",
    "    return (rpi_model_for_mass(*args, **kwargs) - kwargs['real_data'])**2\n"
   ]
  },
  {
   "cell_type": "markdown",
   "metadata": {},
   "source": [
    "### Guessing initial parameter intervals and hyper parameters for DE"
   ]
  },
  {
   "cell_type": "code",
   "execution_count": 63,
   "metadata": {},
   "outputs": [],
   "source": [
    "# Bounds follows: [(component_fraction), (pre_exp_factor), (activation_energy), (order)]\n",
    "hemicellulosis = [(0, 0.4), (0, 1e10), (0, 1e10), (0, 2.0)]\n",
    "cellulosis = [(0, 0.5), (0, 1e10), (0, 1e10), (0, 2.0)]\n",
    "lignin = [(0, 0.3), (0, 1e10), (0, 1e10), (0, 4.0)]\n",
    "bounds = hemicellulosis + cellulosis + lignin\n",
    "\n",
    "# DE hyper-parameters\n",
    "strategy = 'best1bin'\n",
    "maxiter = 1000\n",
    "popsize = 15\n",
    "tol = 1e-2\n",
    "mutation = (0.5, 1)\n",
    "recombination = 0.7\n",
    "atol = 0"
   ]
  },
  {
   "cell_type": "markdown",
   "metadata": {},
   "source": [
    "### Main script"
   ]
  },
  {
   "cell_type": "code",
   "execution_count": 57,
   "metadata": {},
   "outputs": [
    {
     "data": {
      "text/html": [
       "<div>\n",
       "<style scoped>\n",
       "    .dataframe tbody tr th:only-of-type {\n",
       "        vertical-align: middle;\n",
       "    }\n",
       "\n",
       "    .dataframe tbody tr th {\n",
       "        vertical-align: top;\n",
       "    }\n",
       "\n",
       "    .dataframe thead th {\n",
       "        text-align: right;\n",
       "    }\n",
       "</style>\n",
       "<table border=\"1\" class=\"dataframe\">\n",
       "  <thead>\n",
       "    <tr style=\"text-align: right;\">\n",
       "      <th></th>\n",
       "      <th>time</th>\n",
       "      <th>temperature</th>\n",
       "      <th>tga</th>\n",
       "      <th>dtga</th>\n",
       "      <th>conversion</th>\n",
       "      <th>theoretical_temperature</th>\n",
       "    </tr>\n",
       "  </thead>\n",
       "  <tbody>\n",
       "    <tr>\n",
       "      <th>0</th>\n",
       "      <td>0</td>\n",
       "      <td>450.35</td>\n",
       "      <td>10.32687</td>\n",
       "      <td>-0.000092</td>\n",
       "      <td>0.000000</td>\n",
       "      <td>450.350000</td>\n",
       "    </tr>\n",
       "    <tr>\n",
       "      <th>1</th>\n",
       "      <td>5</td>\n",
       "      <td>450.85</td>\n",
       "      <td>10.32643</td>\n",
       "      <td>-0.000088</td>\n",
       "      <td>0.000066</td>\n",
       "      <td>450.766667</td>\n",
       "    </tr>\n",
       "    <tr>\n",
       "      <th>2</th>\n",
       "      <td>10</td>\n",
       "      <td>451.25</td>\n",
       "      <td>10.32595</td>\n",
       "      <td>-0.000096</td>\n",
       "      <td>0.000137</td>\n",
       "      <td>451.183333</td>\n",
       "    </tr>\n",
       "    <tr>\n",
       "      <th>3</th>\n",
       "      <td>15</td>\n",
       "      <td>451.65</td>\n",
       "      <td>10.32550</td>\n",
       "      <td>-0.000090</td>\n",
       "      <td>0.000205</td>\n",
       "      <td>451.600000</td>\n",
       "    </tr>\n",
       "    <tr>\n",
       "      <th>4</th>\n",
       "      <td>20</td>\n",
       "      <td>452.15</td>\n",
       "      <td>10.32502</td>\n",
       "      <td>-0.000096</td>\n",
       "      <td>0.000276</td>\n",
       "      <td>452.016667</td>\n",
       "    </tr>\n",
       "  </tbody>\n",
       "</table>\n",
       "</div>"
      ],
      "text/plain": [
       "   time  temperature       tga      dtga  conversion  theoretical_temperature\n",
       "0     0       450.35  10.32687 -0.000092    0.000000               450.350000\n",
       "1     5       450.85  10.32643 -0.000088    0.000066               450.766667\n",
       "2    10       451.25  10.32595 -0.000096    0.000137               451.183333\n",
       "3    15       451.65  10.32550 -0.000090    0.000205               451.600000\n",
       "4    20       452.15  10.32502 -0.000096    0.000276               452.016667"
      ]
     },
     "execution_count": 57,
     "metadata": {},
     "output_type": "execute_result"
    }
   ],
   "source": [
    "# duplicating the data for safeguarding\n",
    "data = raw_data.drop('dtga_5', axis=1).copy()\n",
    "\n",
    "# Constants\n",
    "initial_mass = data.tga.iloc[0] # mg\n",
    "final_mass = data.tga.iloc[-1] # mg \n",
    "initial_temperature = data.temperature.iloc[0] # K\n",
    "real_data = data.dtga # mg/s\n",
    "gas_constant = 8.314 # J/mol*K\n",
    "heating_rate = 5 # K/min\n",
    "\n",
    "# conversion of mass over time\n",
    "data['conversion'] = conversion(initial_mass=initial_mass, \n",
    "                                final_mass=final_mass, \n",
    "                                instant_mass=data.tga)\n",
    "\n",
    "# calculating theoretical temperature\n",
    "data['theoretical_temperature'] = theorical_temperature(initial_temperature=initial_temperature,\n",
    "                                                        heating_rate=heating_rate,\n",
    "                                                        time=data.time)\n",
    "\n",
    "data.head(5)"
   ]
  },
  {
   "cell_type": "code",
   "execution_count": 64,
   "metadata": {},
   "outputs": [],
   "source": [
    "@time_interval_decorator\n",
    "def main():\n",
    "    results = de(objective_function, bounds)\n",
    "    params = results.x\n",
    "    opt_fun = results.fun\n",
    "    print(f'Params: {params}\\nResult: {opt_fun}')"
   ]
  }
 ],
 "metadata": {
  "kernelspec": {
   "display_name": "Python 3",
   "language": "python",
   "name": "python3"
  },
  "language_info": {
   "codemirror_mode": {
    "name": "ipython",
    "version": 3
   },
   "file_extension": ".py",
   "mimetype": "text/x-python",
   "name": "python",
   "nbconvert_exporter": "python",
   "pygments_lexer": "ipython3",
   "version": "3.11.3"
  }
 },
 "nbformat": 4,
 "nbformat_minor": 2
}
