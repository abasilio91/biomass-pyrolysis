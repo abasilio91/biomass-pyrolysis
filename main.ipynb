{
 "cells": [
  {
   "cell_type": "markdown",
   "metadata": {},
   "source": [
    "### data setup"
   ]
  },
  {
   "cell_type": "code",
   "execution_count": 24,
   "metadata": {},
   "outputs": [],
   "source": [
    "import pandas as pd\n",
    "import numpy as np\n",
    "import matplotlib.pyplot as plt\n",
    "import seaborn as sns\n",
    "from scipy.optimize import differential_evolution as de"
   ]
  },
  {
   "cell_type": "code",
   "execution_count": 25,
   "metadata": {},
   "outputs": [
    {
     "data": {
      "text/html": [
       "<div>\n",
       "<style scoped>\n",
       "    .dataframe tbody tr th:only-of-type {\n",
       "        vertical-align: middle;\n",
       "    }\n",
       "\n",
       "    .dataframe tbody tr th {\n",
       "        vertical-align: top;\n",
       "    }\n",
       "\n",
       "    .dataframe thead th {\n",
       "        text-align: right;\n",
       "    }\n",
       "</style>\n",
       "<table border=\"1\" class=\"dataframe\">\n",
       "  <thead>\n",
       "    <tr style=\"text-align: right;\">\n",
       "      <th></th>\n",
       "      <th>time</th>\n",
       "      <th>temperature</th>\n",
       "      <th>tga</th>\n",
       "      <th>dtga</th>\n",
       "      <th>dtga_5</th>\n",
       "    </tr>\n",
       "  </thead>\n",
       "  <tbody>\n",
       "    <tr>\n",
       "      <th>0</th>\n",
       "      <td>0</td>\n",
       "      <td>450.35</td>\n",
       "      <td>10.32687</td>\n",
       "      <td>-0.000092</td>\n",
       "      <td>-0.00046</td>\n",
       "    </tr>\n",
       "    <tr>\n",
       "      <th>1</th>\n",
       "      <td>5</td>\n",
       "      <td>450.85</td>\n",
       "      <td>10.32643</td>\n",
       "      <td>-0.000088</td>\n",
       "      <td>-0.00044</td>\n",
       "    </tr>\n",
       "    <tr>\n",
       "      <th>2</th>\n",
       "      <td>10</td>\n",
       "      <td>451.25</td>\n",
       "      <td>10.32595</td>\n",
       "      <td>-0.000096</td>\n",
       "      <td>-0.00048</td>\n",
       "    </tr>\n",
       "    <tr>\n",
       "      <th>3</th>\n",
       "      <td>15</td>\n",
       "      <td>451.65</td>\n",
       "      <td>10.32550</td>\n",
       "      <td>-0.000090</td>\n",
       "      <td>-0.00045</td>\n",
       "    </tr>\n",
       "    <tr>\n",
       "      <th>4</th>\n",
       "      <td>20</td>\n",
       "      <td>452.15</td>\n",
       "      <td>10.32502</td>\n",
       "      <td>-0.000096</td>\n",
       "      <td>-0.00048</td>\n",
       "    </tr>\n",
       "  </tbody>\n",
       "</table>\n",
       "</div>"
      ],
      "text/plain": [
       "   time  temperature       tga      dtga   dtga_5\n",
       "0     0       450.35  10.32687 -0.000092 -0.00046\n",
       "1     5       450.85  10.32643 -0.000088 -0.00044\n",
       "2    10       451.25  10.32595 -0.000096 -0.00048\n",
       "3    15       451.65  10.32550 -0.000090 -0.00045\n",
       "4    20       452.15  10.32502 -0.000096 -0.00048"
      ]
     },
     "execution_count": 25,
     "metadata": {},
     "output_type": "execute_result"
    }
   ],
   "source": [
    "raw_data = pd.read_csv('dados\\MC carpel H 5-min.csv')\n",
    "raw_data.head(5)"
   ]
  },
  {
   "cell_type": "code",
   "execution_count": 26,
   "metadata": {},
   "outputs": [
    {
     "data": {
      "text/plain": [
       "time             int64\n",
       "temperature    float64\n",
       "tga            float64\n",
       "dtga           float64\n",
       "dtga_5         float64\n",
       "dtype: object"
      ]
     },
     "execution_count": 26,
     "metadata": {},
     "output_type": "execute_result"
    }
   ],
   "source": [
    "raw_data.dtypes"
   ]
  },
  {
   "cell_type": "markdown",
   "metadata": {},
   "source": [
    "### functions"
   ]
  },
  {
   "cell_type": "code",
   "execution_count": 27,
   "metadata": {},
   "outputs": [],
   "source": [
    "def time_interval_decorator(function):\n",
    "    import time\n",
    "    def wrapper(*args):\n",
    "        initial_time = time.time()\n",
    "        function(*args)\n",
    "        final_time = time.time()\n",
    "        elapsed_time = final_time - initial_time\n",
    "        print(f'Time elapsed: {elapsed_time} seconds.')\n",
    "    return wrapper\n",
    "\n",
    "def theorical_temperature(data):\n",
    "    initial_temperature = data.temperature.iloc[0]\n",
    "    heating_rate = 5 # K/min\n",
    "    return initial_temperature + heating_rate/60 * data.time\n",
    "\n",
    "def conversion(data):\n",
    "    initial_mass = data.tga.iloc[0]\n",
    "    final_mass = data.tga.iloc[-1]\n",
    "    return (initial_mass - data.tga) / (initial_mass - final_mass)\n",
    "\n",
    "def conversion_rate(order, data):\n",
    "    return (1 - data.conversion)**order\n",
    "\n",
    "def arrhenius(X, data):\n",
    "    gas_constant = 8.314 # J/mol*K\n",
    "    \n",
    "    pre_exp_factor = X[0]\n",
    "    activation_energy = X[1]\n",
    "    order = X[2]\n",
    "\n",
    "    rate = pre_exp_factor * np.exp( -activation_energy / (gas_constant * data.theoretical_temperature)) * conversion_rate(order, data)\n",
    "    return rate\n",
    "\n",
    "def rpi_model_for_mass(X, data):\n",
    "    # component parameters = [(component_fraction), (pre_exp_factor), (activation_energy), (order)]\n",
    "    hemicellulosis_params = X[:4]\n",
    "    cellulosis_params = X[4:8]\n",
    "    lignin_params = X[8:12]\n",
    "\n",
    "    model_hemicellulosis = -hemicellulosis_params[0] * arrhenius(hemicellulosis_params[1:], data)\n",
    "    model_cellulosis = -cellulosis_params[0] * arrhenius(cellulosis_params[1:], data)\n",
    "    model_lignin = -lignin_params[0] * arrhenius(lignin_params[1:], data)\n",
    "\n",
    "    complete_model = model_hemicellulosis + model_cellulosis + model_lignin\n",
    "    return complete_model\n",
    "\n",
    "def objective_function(X, data):\n",
    "    data['err'] = (rpi_model_for_mass(X, data) - data['tga'])**2\n",
    "    return data.err.sum()"
   ]
  },
  {
   "cell_type": "markdown",
   "metadata": {},
   "source": [
    "### Guessing initial parameter intervals and hyper parameters for DE"
   ]
  },
  {
   "cell_type": "code",
   "execution_count": 28,
   "metadata": {},
   "outputs": [],
   "source": [
    "# Bounds follows: [(component_fraction), (pre_exp_factor), (activation_energy), (order)]\n",
    "hemicellulosis = [(0, 0.4), (0, 1e10), (0, 1e10), (0, 2.0)]\n",
    "cellulosis = [(0, 0.5), (0, 1e10), (0, 1e10), (0, 2.0)]\n",
    "lignin = [(0, 0.3), (0, 1e10), (0, 1e10), (0, 4.0)]\n",
    "bounds = hemicellulosis + cellulosis + lignin\n",
    "\n",
    "# DE hyper-parameters\n",
    "strategy = 'best1bin'\n",
    "maxiter = 1000\n",
    "popsize = 15\n",
    "tol = 1e-2\n",
    "mutation = (0.5, 1)\n",
    "recombination = 0.7"
   ]
  },
  {
   "cell_type": "markdown",
   "metadata": {},
   "source": [
    "### Main script"
   ]
  },
  {
   "cell_type": "code",
   "execution_count": 29,
   "metadata": {},
   "outputs": [
    {
     "data": {
      "text/html": [
       "<div>\n",
       "<style scoped>\n",
       "    .dataframe tbody tr th:only-of-type {\n",
       "        vertical-align: middle;\n",
       "    }\n",
       "\n",
       "    .dataframe tbody tr th {\n",
       "        vertical-align: top;\n",
       "    }\n",
       "\n",
       "    .dataframe thead th {\n",
       "        text-align: right;\n",
       "    }\n",
       "</style>\n",
       "<table border=\"1\" class=\"dataframe\">\n",
       "  <thead>\n",
       "    <tr style=\"text-align: right;\">\n",
       "      <th></th>\n",
       "      <th>time</th>\n",
       "      <th>temperature</th>\n",
       "      <th>tga</th>\n",
       "      <th>dtga</th>\n",
       "      <th>conversion</th>\n",
       "      <th>theoretical_temperature</th>\n",
       "    </tr>\n",
       "  </thead>\n",
       "  <tbody>\n",
       "    <tr>\n",
       "      <th>0</th>\n",
       "      <td>0</td>\n",
       "      <td>450.35</td>\n",
       "      <td>10.32687</td>\n",
       "      <td>-0.000092</td>\n",
       "      <td>0.000000</td>\n",
       "      <td>450.350000</td>\n",
       "    </tr>\n",
       "    <tr>\n",
       "      <th>1</th>\n",
       "      <td>5</td>\n",
       "      <td>450.85</td>\n",
       "      <td>10.32643</td>\n",
       "      <td>-0.000088</td>\n",
       "      <td>0.000066</td>\n",
       "      <td>450.766667</td>\n",
       "    </tr>\n",
       "    <tr>\n",
       "      <th>2</th>\n",
       "      <td>10</td>\n",
       "      <td>451.25</td>\n",
       "      <td>10.32595</td>\n",
       "      <td>-0.000096</td>\n",
       "      <td>0.000137</td>\n",
       "      <td>451.183333</td>\n",
       "    </tr>\n",
       "    <tr>\n",
       "      <th>3</th>\n",
       "      <td>15</td>\n",
       "      <td>451.65</td>\n",
       "      <td>10.32550</td>\n",
       "      <td>-0.000090</td>\n",
       "      <td>0.000205</td>\n",
       "      <td>451.600000</td>\n",
       "    </tr>\n",
       "    <tr>\n",
       "      <th>4</th>\n",
       "      <td>20</td>\n",
       "      <td>452.15</td>\n",
       "      <td>10.32502</td>\n",
       "      <td>-0.000096</td>\n",
       "      <td>0.000276</td>\n",
       "      <td>452.016667</td>\n",
       "    </tr>\n",
       "  </tbody>\n",
       "</table>\n",
       "</div>"
      ],
      "text/plain": [
       "   time  temperature       tga      dtga  conversion  theoretical_temperature\n",
       "0     0       450.35  10.32687 -0.000092    0.000000               450.350000\n",
       "1     5       450.85  10.32643 -0.000088    0.000066               450.766667\n",
       "2    10       451.25  10.32595 -0.000096    0.000137               451.183333\n",
       "3    15       451.65  10.32550 -0.000090    0.000205               451.600000\n",
       "4    20       452.15  10.32502 -0.000096    0.000276               452.016667"
      ]
     },
     "execution_count": 29,
     "metadata": {},
     "output_type": "execute_result"
    }
   ],
   "source": [
    "# duplicating the data for safeguarding\n",
    "data = raw_data.drop('dtga_5', axis=1).copy()\n",
    "\n",
    "# conversion of mass over time\n",
    "data['conversion'] = conversion(data)\n",
    "\n",
    "# calculating theoretical temperature\n",
    "data['theoretical_temperature'] = theorical_temperature(data)\n",
    "\n",
    "data.head(5)"
   ]
  },
  {
   "cell_type": "code",
   "execution_count": 33,
   "metadata": {},
   "outputs": [
    {
     "ename": "RuntimeError",
     "evalue": "func(x, *args) must return a scalar value",
     "output_type": "error",
     "traceback": [
      "\u001b[1;31m---------------------------------------------------------------------------\u001b[0m",
      "\u001b[1;31mRuntimeError\u001b[0m                              Traceback (most recent call last)",
      "\u001b[1;32mc:\\Adam\\Estudos\\Programação\\Projetos\\biomass-pyrolysis\\main.ipynb Cell 11\u001b[0m line \u001b[0;36m1\n\u001b[0;32m     <a href='vscode-notebook-cell:/c%3A/Adam/Estudos/Programa%C3%A7%C3%A3o/Projetos/biomass-pyrolysis/main.ipynb#X13sZmlsZQ%3D%3D?line=14'>15</a>\u001b[0m     \u001b[39mprint\u001b[39m(\u001b[39mf\u001b[39m\u001b[39m'\u001b[39m\u001b[39mParams: \u001b[39m\u001b[39m{\u001b[39;00mparams\u001b[39m}\u001b[39;00m\u001b[39m\\n\u001b[39;00m\u001b[39mResult: \u001b[39m\u001b[39m{\u001b[39;00mopt_fun\u001b[39m}\u001b[39;00m\u001b[39m'\u001b[39m)\n\u001b[0;32m     <a href='vscode-notebook-cell:/c%3A/Adam/Estudos/Programa%C3%A7%C3%A3o/Projetos/biomass-pyrolysis/main.ipynb#X13sZmlsZQ%3D%3D?line=16'>17</a>\u001b[0m \u001b[39mif\u001b[39;00m \u001b[39m__name__\u001b[39m \u001b[39m==\u001b[39m \u001b[39m\"\u001b[39m\u001b[39m__main__\u001b[39m\u001b[39m\"\u001b[39m:\n\u001b[1;32m---> <a href='vscode-notebook-cell:/c%3A/Adam/Estudos/Programa%C3%A7%C3%A3o/Projetos/biomass-pyrolysis/main.ipynb#X13sZmlsZQ%3D%3D?line=17'>18</a>\u001b[0m     main()\n",
      "\u001b[1;32mc:\\Adam\\Estudos\\Programação\\Projetos\\biomass-pyrolysis\\main.ipynb Cell 11\u001b[0m line \u001b[0;36m5\n\u001b[0;32m      <a href='vscode-notebook-cell:/c%3A/Adam/Estudos/Programa%C3%A7%C3%A3o/Projetos/biomass-pyrolysis/main.ipynb#X13sZmlsZQ%3D%3D?line=2'>3</a>\u001b[0m \u001b[39mdef\u001b[39;00m \u001b[39mwrapper\u001b[39m(\u001b[39m*\u001b[39margs):\n\u001b[0;32m      <a href='vscode-notebook-cell:/c%3A/Adam/Estudos/Programa%C3%A7%C3%A3o/Projetos/biomass-pyrolysis/main.ipynb#X13sZmlsZQ%3D%3D?line=3'>4</a>\u001b[0m     initial_time \u001b[39m=\u001b[39m time\u001b[39m.\u001b[39mtime()\n\u001b[1;32m----> <a href='vscode-notebook-cell:/c%3A/Adam/Estudos/Programa%C3%A7%C3%A3o/Projetos/biomass-pyrolysis/main.ipynb#X13sZmlsZQ%3D%3D?line=4'>5</a>\u001b[0m     function(\u001b[39m*\u001b[39;49margs)\n\u001b[0;32m      <a href='vscode-notebook-cell:/c%3A/Adam/Estudos/Programa%C3%A7%C3%A3o/Projetos/biomass-pyrolysis/main.ipynb#X13sZmlsZQ%3D%3D?line=5'>6</a>\u001b[0m     final_time \u001b[39m=\u001b[39m time\u001b[39m.\u001b[39mtime()\n\u001b[0;32m      <a href='vscode-notebook-cell:/c%3A/Adam/Estudos/Programa%C3%A7%C3%A3o/Projetos/biomass-pyrolysis/main.ipynb#X13sZmlsZQ%3D%3D?line=6'>7</a>\u001b[0m     elapsed_time \u001b[39m=\u001b[39m final_time \u001b[39m-\u001b[39m initial_time\n",
      "\u001b[1;32mc:\\Adam\\Estudos\\Programação\\Projetos\\biomass-pyrolysis\\main.ipynb Cell 11\u001b[0m line \u001b[0;36m3\n\u001b[0;32m      <a href='vscode-notebook-cell:/c%3A/Adam/Estudos/Programa%C3%A7%C3%A3o/Projetos/biomass-pyrolysis/main.ipynb#X13sZmlsZQ%3D%3D?line=0'>1</a>\u001b[0m \u001b[39m@time_interval_decorator\u001b[39m\n\u001b[0;32m      <a href='vscode-notebook-cell:/c%3A/Adam/Estudos/Programa%C3%A7%C3%A3o/Projetos/biomass-pyrolysis/main.ipynb#X13sZmlsZQ%3D%3D?line=1'>2</a>\u001b[0m \u001b[39mdef\u001b[39;00m \u001b[39mmain\u001b[39m():\n\u001b[1;32m----> <a href='vscode-notebook-cell:/c%3A/Adam/Estudos/Programa%C3%A7%C3%A3o/Projetos/biomass-pyrolysis/main.ipynb#X13sZmlsZQ%3D%3D?line=2'>3</a>\u001b[0m     results \u001b[39m=\u001b[39m de(objective_function, \n\u001b[0;32m      <a href='vscode-notebook-cell:/c%3A/Adam/Estudos/Programa%C3%A7%C3%A3o/Projetos/biomass-pyrolysis/main.ipynb#X13sZmlsZQ%3D%3D?line=3'>4</a>\u001b[0m                 bounds \u001b[39m=\u001b[39;49m bounds,\n\u001b[0;32m      <a href='vscode-notebook-cell:/c%3A/Adam/Estudos/Programa%C3%A7%C3%A3o/Projetos/biomass-pyrolysis/main.ipynb#X13sZmlsZQ%3D%3D?line=4'>5</a>\u001b[0m                 args \u001b[39m=\u001b[39;49m (data, ),\n\u001b[0;32m      <a href='vscode-notebook-cell:/c%3A/Adam/Estudos/Programa%C3%A7%C3%A3o/Projetos/biomass-pyrolysis/main.ipynb#X13sZmlsZQ%3D%3D?line=5'>6</a>\u001b[0m                 strategy \u001b[39m=\u001b[39;49m strategy,\n\u001b[0;32m      <a href='vscode-notebook-cell:/c%3A/Adam/Estudos/Programa%C3%A7%C3%A3o/Projetos/biomass-pyrolysis/main.ipynb#X13sZmlsZQ%3D%3D?line=6'>7</a>\u001b[0m                 maxiter \u001b[39m=\u001b[39;49m maxiter,\n\u001b[0;32m      <a href='vscode-notebook-cell:/c%3A/Adam/Estudos/Programa%C3%A7%C3%A3o/Projetos/biomass-pyrolysis/main.ipynb#X13sZmlsZQ%3D%3D?line=7'>8</a>\u001b[0m                 popsize \u001b[39m=\u001b[39;49m popsize,\n\u001b[0;32m      <a href='vscode-notebook-cell:/c%3A/Adam/Estudos/Programa%C3%A7%C3%A3o/Projetos/biomass-pyrolysis/main.ipynb#X13sZmlsZQ%3D%3D?line=8'>9</a>\u001b[0m                 tol \u001b[39m=\u001b[39;49m tol,\n\u001b[0;32m     <a href='vscode-notebook-cell:/c%3A/Adam/Estudos/Programa%C3%A7%C3%A3o/Projetos/biomass-pyrolysis/main.ipynb#X13sZmlsZQ%3D%3D?line=9'>10</a>\u001b[0m                 mutation \u001b[39m=\u001b[39;49m mutation,\n\u001b[0;32m     <a href='vscode-notebook-cell:/c%3A/Adam/Estudos/Programa%C3%A7%C3%A3o/Projetos/biomass-pyrolysis/main.ipynb#X13sZmlsZQ%3D%3D?line=10'>11</a>\u001b[0m                 recombination \u001b[39m=\u001b[39;49m recombination,\n\u001b[0;32m     <a href='vscode-notebook-cell:/c%3A/Adam/Estudos/Programa%C3%A7%C3%A3o/Projetos/biomass-pyrolysis/main.ipynb#X13sZmlsZQ%3D%3D?line=11'>12</a>\u001b[0m                 )\n\u001b[0;32m     <a href='vscode-notebook-cell:/c%3A/Adam/Estudos/Programa%C3%A7%C3%A3o/Projetos/biomass-pyrolysis/main.ipynb#X13sZmlsZQ%3D%3D?line=12'>13</a>\u001b[0m     params \u001b[39m=\u001b[39m results\u001b[39m.\u001b[39mx\n\u001b[0;32m     <a href='vscode-notebook-cell:/c%3A/Adam/Estudos/Programa%C3%A7%C3%A3o/Projetos/biomass-pyrolysis/main.ipynb#X13sZmlsZQ%3D%3D?line=13'>14</a>\u001b[0m     opt_fun \u001b[39m=\u001b[39m results\u001b[39m.\u001b[39mfun\n",
      "File \u001b[1;32mc:\\Users\\adam_\\AppData\\Local\\Programs\\Python\\Python311\\Lib\\site-packages\\scipy\\optimize\\_differentialevolution.py:397\u001b[0m, in \u001b[0;36mdifferential_evolution\u001b[1;34m(func, bounds, args, strategy, maxiter, popsize, tol, mutation, recombination, seed, callback, disp, polish, init, atol, updating, workers, constraints, x0, integrality, vectorized)\u001b[0m\n\u001b[0;32m    380\u001b[0m \u001b[39m# using a context manager means that any created Pool objects are\u001b[39;00m\n\u001b[0;32m    381\u001b[0m \u001b[39m# cleared up.\u001b[39;00m\n\u001b[0;32m    382\u001b[0m \u001b[39mwith\u001b[39;00m DifferentialEvolutionSolver(func, bounds, args\u001b[39m=\u001b[39margs,\n\u001b[0;32m    383\u001b[0m                                  strategy\u001b[39m=\u001b[39mstrategy,\n\u001b[0;32m    384\u001b[0m                                  maxiter\u001b[39m=\u001b[39mmaxiter,\n\u001b[1;32m   (...)\u001b[0m\n\u001b[0;32m    395\u001b[0m                                  integrality\u001b[39m=\u001b[39mintegrality,\n\u001b[0;32m    396\u001b[0m                                  vectorized\u001b[39m=\u001b[39mvectorized) \u001b[39mas\u001b[39;00m solver:\n\u001b[1;32m--> 397\u001b[0m     ret \u001b[39m=\u001b[39m solver\u001b[39m.\u001b[39;49msolve()\n\u001b[0;32m    399\u001b[0m \u001b[39mreturn\u001b[39;00m ret\n",
      "File \u001b[1;32mc:\\Users\\adam_\\AppData\\Local\\Programs\\Python\\Python311\\Lib\\site-packages\\scipy\\optimize\\_differentialevolution.py:989\u001b[0m, in \u001b[0;36mDifferentialEvolutionSolver.solve\u001b[1;34m(self)\u001b[0m\n\u001b[0;32m    984\u001b[0m     \u001b[39mself\u001b[39m\u001b[39m.\u001b[39mfeasible, \u001b[39mself\u001b[39m\u001b[39m.\u001b[39mconstraint_violation \u001b[39m=\u001b[39m (\n\u001b[0;32m    985\u001b[0m         \u001b[39mself\u001b[39m\u001b[39m.\u001b[39m_calculate_population_feasibilities(\u001b[39mself\u001b[39m\u001b[39m.\u001b[39mpopulation))\n\u001b[0;32m    987\u001b[0m     \u001b[39m# only work out population energies for feasible solutions\u001b[39;00m\n\u001b[0;32m    988\u001b[0m     \u001b[39mself\u001b[39m\u001b[39m.\u001b[39mpopulation_energies[\u001b[39mself\u001b[39m\u001b[39m.\u001b[39mfeasible] \u001b[39m=\u001b[39m (\n\u001b[1;32m--> 989\u001b[0m         \u001b[39mself\u001b[39;49m\u001b[39m.\u001b[39;49m_calculate_population_energies(\n\u001b[0;32m    990\u001b[0m             \u001b[39mself\u001b[39;49m\u001b[39m.\u001b[39;49mpopulation[\u001b[39mself\u001b[39;49m\u001b[39m.\u001b[39;49mfeasible]))\n\u001b[0;32m    992\u001b[0m     \u001b[39mself\u001b[39m\u001b[39m.\u001b[39m_promote_lowest_energy()\n\u001b[0;32m    994\u001b[0m \u001b[39m# do the optimization.\u001b[39;00m\n",
      "File \u001b[1;32mc:\\Users\\adam_\\AppData\\Local\\Programs\\Python\\Python311\\Lib\\site-packages\\scipy\\optimize\\_differentialevolution.py:1139\u001b[0m, in \u001b[0;36mDifferentialEvolutionSolver._calculate_population_energies\u001b[1;34m(self, population)\u001b[0m\n\u001b[0;32m   1135\u001b[0m     \u001b[39mif\u001b[39;00m \u001b[39mself\u001b[39m\u001b[39m.\u001b[39mvectorized:\n\u001b[0;32m   1136\u001b[0m         \u001b[39mraise\u001b[39;00m \u001b[39mRuntimeError\u001b[39;00m(\u001b[39m\"\u001b[39m\u001b[39mThe vectorized function must return an\u001b[39m\u001b[39m\"\u001b[39m\n\u001b[0;32m   1137\u001b[0m                            \u001b[39m\"\u001b[39m\u001b[39m array of shape (S,) when given an array\u001b[39m\u001b[39m\"\u001b[39m\n\u001b[0;32m   1138\u001b[0m                            \u001b[39m\"\u001b[39m\u001b[39m of shape (len(x), S)\u001b[39m\u001b[39m\"\u001b[39m)\n\u001b[1;32m-> 1139\u001b[0m     \u001b[39mraise\u001b[39;00m \u001b[39mRuntimeError\u001b[39;00m(\u001b[39m\"\u001b[39m\u001b[39mfunc(x, *args) must return a scalar value\u001b[39m\u001b[39m\"\u001b[39m)\n\u001b[0;32m   1141\u001b[0m energies[\u001b[39m0\u001b[39m:S] \u001b[39m=\u001b[39m calc_energies\n\u001b[0;32m   1143\u001b[0m \u001b[39mif\u001b[39;00m \u001b[39mself\u001b[39m\u001b[39m.\u001b[39mvectorized:\n",
      "\u001b[1;31mRuntimeError\u001b[0m: func(x, *args) must return a scalar value"
     ]
    }
   ],
   "source": [
    "@time_interval_decorator\n",
    "def main():\n",
    "    results = de(objective_function, \n",
    "                bounds = bounds,\n",
    "                args = (data, ),\n",
    "                strategy = strategy,\n",
    "                maxiter = maxiter,\n",
    "                popsize = popsize,\n",
    "                tol = tol,\n",
    "                mutation = mutation,\n",
    "                recombination = recombination,\n",
    "                )\n",
    "    params = results.x\n",
    "    opt_fun = results.fun\n",
    "    print(f'Params: {params}\\nResult: {opt_fun}')\n",
    "\n",
    "if __name__ == \"__main__\":\n",
    "    main()"
   ]
  }
 ],
 "metadata": {
  "kernelspec": {
   "display_name": "Python 3",
   "language": "python",
   "name": "python3"
  },
  "language_info": {
   "codemirror_mode": {
    "name": "ipython",
    "version": 3
   },
   "file_extension": ".py",
   "mimetype": "text/x-python",
   "name": "python",
   "nbconvert_exporter": "python",
   "pygments_lexer": "ipython3",
   "version": "3.11.3"
  }
 },
 "nbformat": 4,
 "nbformat_minor": 2
}
